{
  "nbformat": 4,
  "nbformat_minor": 0,
  "metadata": {
    "colab": {
      "name": "TestGaussianNoiseModel.ipynb",
      "version": "0.3.2",
      "provenance": [],
      "collapsed_sections": [],
      "include_colab_link": true
    },
    "kernelspec": {
      "name": "python3",
      "display_name": "Python 3"
    },
    "accelerator": "GPU"
  },
  "cells": [
    {
      "cell_type": "markdown",
      "metadata": {
        "id": "view-in-github",
        "colab_type": "text"
      },
      "source": [
        "<a href=\"https://colab.research.google.com/github/felipeescorel/VMLampiao/blob/master/acc-673.ipynb\" target=\"_parent\"><img src=\"https://colab.research.google.com/assets/colab-badge.svg\" alt=\"Open In Colab\"/></a>"
      ]
    },
    {
      "cell_type": "code",
      "metadata": {
        "id": "wyYhjJ9YMsCq",
        "colab_type": "code",
        "colab": {}
      },
      "source": [
        "import pandas as pd\n",
        "from sklearn.model_selection import train_test_split\n",
        "import matplotlib.pyplot as plt\n",
        "from keras import optimizers\n",
        "\n",
        "from keras.models import Sequential\n",
        "from keras.regularizers import l2\n",
        "from keras.layers.core import Dense, Dropout,Activation\n",
        "from keras.layers import GaussianNoise, ReLU, BatchNormalization,LeakyReLU\n",
        "from keras.callbacks import EarlyStopping\n",
        "from keras.utils import to_categorical\n",
        "\n"
      ],
      "execution_count": 0,
      "outputs": []
    },
    {
      "cell_type": "code",
      "metadata": {
        "id": "1PpkyracMums",
        "colab_type": "code",
        "outputId": "79c61434-104f-4f9c-e7d8-7485a74b6f21",
        "colab": {
          "base_uri": "https://localhost:8080/",
          "height": 139
        }
      },
      "source": [
        "!git clone https://github.com/felipeescorel/redes_neurais.git"
      ],
      "execution_count": 8,
      "outputs": [
        {
          "output_type": "stream",
          "text": [
            "Cloning into 'redes_neurais'...\n",
            "remote: Enumerating objects: 8, done.\u001b[K\n",
            "remote: Counting objects: 100% (8/8), done.\u001b[K\n",
            "remote: Compressing objects: 100% (8/8), done.\u001b[K\n",
            "remote: Total 202 (delta 3), reused 0 (delta 0), pack-reused 194\u001b[K\n",
            "Receiving objects: 100% (202/202), 34.91 MiB | 38.11 MiB/s, done.\n",
            "Resolving deltas: 100% (59/59), done.\n"
          ],
          "name": "stdout"
        }
      ]
    },
    {
      "cell_type": "code",
      "metadata": {
        "id": "7ZSKCcIWMwel",
        "colab_type": "code",
        "colab": {}
      },
      "source": [
        "data =  pd.read_csv('redes_neurais/ClientesVM/datasetV6.csv')"
      ],
      "execution_count": 0,
      "outputs": []
    },
    {
      "cell_type": "code",
      "metadata": {
        "id": "MhJqvwQGMy1l",
        "colab_type": "code",
        "colab": {}
      },
      "source": [
        "data['rendaMedia'] = data['rendaMedia'].map(lambda x: (x - data['rendaMedia'].min())/(data['rendaMedia'].max()-data['rendaMedia'].min()) )\n",
        "data['cidade_id'] = data['cidade_id'].map(lambda x: (x - data['cidade_id'].min())/(data['cidade_id'].max()-data['cidade_id'].min()) ) \n",
        "data['Idade'] = data['Idade'].map(lambda x: (x - data['Idade'].min())/(data['Idade'].max()-data['Idade'].min()) )"
      ],
      "execution_count": 0,
      "outputs": []
    },
    {
      "cell_type": "code",
      "metadata": {
        "id": "SOKxBobhM0vc",
        "colab_type": "code",
        "colab": {}
      },
      "source": [
        "\n",
        "train, test = train_test_split(data, test_size=0.2)\n",
        "labels = train.loc[:,'id']\n",
        "X_train = train.iloc[:,1:-1]\n",
        "y_train = to_categorical(train.loc[:,'Aprovado'])\n",
        "X_test = test.iloc[:,1:-1]\n",
        "y_test = to_categorical(test.loc[:,'Aprovado'])"
      ],
      "execution_count": 0,
      "outputs": []
    },
    {
      "cell_type": "code",
      "metadata": {
        "id": "Kn9DIli36P9Z",
        "colab_type": "code",
        "colab": {
          "base_uri": "https://localhost:8080/",
          "height": 139
        },
        "outputId": "7f3b8265-4a54-49cb-b045-b05b114804cd"
      },
      "source": [
        "print(y_train)"
      ],
      "execution_count": 34,
      "outputs": [
        {
          "output_type": "stream",
          "text": [
            "[[0. 1.]\n",
            " [0. 1.]\n",
            " [1. 0.]\n",
            " ...\n",
            " [1. 0.]\n",
            " [1. 0.]\n",
            " [1. 0.]]\n"
          ],
          "name": "stdout"
        }
      ]
    },
    {
      "cell_type": "code",
      "metadata": {
        "id": "1M23K6GeM7IM",
        "colab_type": "code",
        "colab": {}
      },
      "source": [
        "input_dim = X_train.shape[1]\n",
        "epochs = 200\n",
        "early_stopping_monitor = EarlyStopping(patience=30)\n",
        "loss= 'binary_crossentropy' #categorical_crossentropy"
      ],
      "execution_count": 0,
      "outputs": []
    },
    {
      "cell_type": "code",
      "metadata": {
        "id": "fHs0iUmBM9V_",
        "colab_type": "code",
        "colab": {}
      },
      "source": [
        "def instance_model():\n",
        "      model = Sequential()\n",
        "      model.add(Dense(256,input_dim=input_dim,\n",
        "                  activation ='relu',\n",
        "                  kernel_initializer='random_uniform',\n",
        "                  bias_initializer='zeros',\n",
        "                  kernel_regularizer=l2(1e-3),\n",
        "                  bias_regularizer=l2(1e-3),\n",
        "                     ))\n",
        "#       model.add(Dropout(rate=0.15))\n",
        "#       model.add(BatchNormalization()) \n",
        "#       model.add(GaussianNoise(0.5))\n",
        "      model.add(Dense(256,))\n",
        "#       activation='relu',\n",
        "#                   bias_initializer='zeros',\n",
        "#                   kernel_regularizer=l2(1e-3),\n",
        "#                   bias_regularizer=l2(1e-3),\n",
        "#                      ))\n",
        "      model.add(LeakyReLU(alpha=0.3))\n",
        "\n",
        "      model.add(Dropout(rate=0.15))\n",
        "      model.add(BatchNormalization()) \n",
        "\n",
        "      model.add(Dense(256,))\n",
        "#                       activation='relu',\n",
        "#                   bias_initializer='zeros',\n",
        "#                   kernel_regularizer=l2(1e-3),\n",
        "#                   bias_regularizer=l2(1e-3),\n",
        "#                      ))\n",
        "      model.add(LeakyReLU(alpha=0.3))\n",
        "\n",
        "      model.add(Dense(2, activation='sigmoid',))\n",
        "                 \n",
        "      return model"
      ],
      "execution_count": 0,
      "outputs": []
    },
    {
      "cell_type": "code",
      "metadata": {
        "id": "EiQKTAE2OMoA",
        "colab_type": "code",
        "outputId": "6b14210f-8f71-4563-9501-010b361425a1",
        "colab": {
          "base_uri": "https://localhost:8080/",
          "height": 2170
        }
      },
      "source": [
        "print(\"Training...\")\n",
        "model = instance_model()\n",
        "model.compile(loss=loss, optimizer='adam' ,metrics=['accuracy'])\n",
        "\n",
        "history = model.fit(X_train,y_train, epochs=epochs, batch_size=128, validation_split=0.15, verbose=2, shuffle = True,callbacks=[early_stopping_monitor])"
      ],
      "execution_count": 64,
      "outputs": [
        {
          "output_type": "stream",
          "text": [
            "Training...\n",
            "Train on 9520 samples, validate on 1680 samples\n",
            "Epoch 1/200\n",
            " - 4s - loss: 0.6803 - acc: 0.5904 - val_loss: 0.6590 - val_acc: 0.5952\n",
            "Epoch 2/200\n",
            " - 0s - loss: 0.6553 - acc: 0.6002 - val_loss: 0.6497 - val_acc: 0.6202\n",
            "Epoch 3/200\n",
            " - 0s - loss: 0.6524 - acc: 0.6017 - val_loss: 0.6667 - val_acc: 0.5988\n",
            "Epoch 4/200\n",
            " - 0s - loss: 0.6477 - acc: 0.6105 - val_loss: 0.6795 - val_acc: 0.6089\n",
            "Epoch 5/200\n",
            " - 0s - loss: 0.6420 - acc: 0.6154 - val_loss: 0.6439 - val_acc: 0.6226\n",
            "Epoch 6/200\n",
            " - 0s - loss: 0.6354 - acc: 0.6206 - val_loss: 0.6339 - val_acc: 0.6378\n",
            "Epoch 7/200\n",
            " - 0s - loss: 0.6351 - acc: 0.6224 - val_loss: 0.7149 - val_acc: 0.5140\n",
            "Epoch 8/200\n",
            " - 0s - loss: 0.6337 - acc: 0.6163 - val_loss: 0.6515 - val_acc: 0.6259\n",
            "Epoch 9/200\n",
            " - 0s - loss: 0.6301 - acc: 0.6186 - val_loss: 0.6471 - val_acc: 0.6348\n",
            "Epoch 10/200\n",
            " - 0s - loss: 0.6292 - acc: 0.6267 - val_loss: 0.6344 - val_acc: 0.6381\n",
            "Epoch 11/200\n",
            " - 0s - loss: 0.6286 - acc: 0.6256 - val_loss: 0.6363 - val_acc: 0.6351\n",
            "Epoch 12/200\n",
            " - 0s - loss: 0.6275 - acc: 0.6305 - val_loss: 0.6386 - val_acc: 0.6324\n",
            "Epoch 13/200\n",
            " - 0s - loss: 0.6247 - acc: 0.6301 - val_loss: 0.6342 - val_acc: 0.6369\n",
            "Epoch 14/200\n",
            " - 0s - loss: 0.6182 - acc: 0.6436 - val_loss: 0.7194 - val_acc: 0.6321\n",
            "Epoch 15/200\n",
            " - 0s - loss: 0.6223 - acc: 0.6337 - val_loss: 0.6547 - val_acc: 0.6295\n",
            "Epoch 16/200\n",
            " - 0s - loss: 0.6180 - acc: 0.6380 - val_loss: 0.6470 - val_acc: 0.6235\n",
            "Epoch 17/200\n",
            " - 0s - loss: 0.6166 - acc: 0.6404 - val_loss: 0.6459 - val_acc: 0.6357\n",
            "Epoch 18/200\n",
            " - 0s - loss: 0.6191 - acc: 0.6332 - val_loss: 0.6418 - val_acc: 0.6292\n",
            "Epoch 19/200\n",
            " - 0s - loss: 0.6172 - acc: 0.6421 - val_loss: 0.6262 - val_acc: 0.6375\n",
            "Epoch 20/200\n",
            " - 0s - loss: 0.6149 - acc: 0.6437 - val_loss: 0.6271 - val_acc: 0.6211\n",
            "Epoch 21/200\n",
            " - 0s - loss: 0.6116 - acc: 0.6461 - val_loss: 0.6132 - val_acc: 0.6446\n",
            "Epoch 22/200\n",
            " - 0s - loss: 0.6061 - acc: 0.6531 - val_loss: 0.6325 - val_acc: 0.6158\n",
            "Epoch 23/200\n",
            " - 0s - loss: 0.6093 - acc: 0.6504 - val_loss: 0.6255 - val_acc: 0.6452\n",
            "Epoch 24/200\n",
            " - 0s - loss: 0.6072 - acc: 0.6535 - val_loss: 0.6085 - val_acc: 0.6598\n",
            "Epoch 25/200\n",
            " - 1s - loss: 0.6039 - acc: 0.6531 - val_loss: 0.6457 - val_acc: 0.5985\n",
            "Epoch 26/200\n",
            " - 1s - loss: 0.6062 - acc: 0.6553 - val_loss: 0.6227 - val_acc: 0.6292\n",
            "Epoch 27/200\n",
            " - 0s - loss: 0.6046 - acc: 0.6580 - val_loss: 0.6294 - val_acc: 0.6208\n",
            "Epoch 28/200\n",
            " - 0s - loss: 0.6024 - acc: 0.6568 - val_loss: 0.6144 - val_acc: 0.6571\n",
            "Epoch 29/200\n",
            " - 0s - loss: 0.6011 - acc: 0.6548 - val_loss: 0.6173 - val_acc: 0.6384\n",
            "Epoch 30/200\n",
            " - 0s - loss: 0.5998 - acc: 0.6628 - val_loss: 0.6168 - val_acc: 0.6610\n",
            "Epoch 31/200\n",
            " - 0s - loss: 0.5980 - acc: 0.6608 - val_loss: 0.6197 - val_acc: 0.6408\n",
            "Epoch 32/200\n",
            " - 0s - loss: 0.5999 - acc: 0.6598 - val_loss: 0.6042 - val_acc: 0.6646\n",
            "Epoch 33/200\n",
            " - 0s - loss: 0.6007 - acc: 0.6630 - val_loss: 0.6254 - val_acc: 0.6467\n",
            "Epoch 34/200\n",
            " - 0s - loss: 0.5986 - acc: 0.6577 - val_loss: 0.6102 - val_acc: 0.6408\n",
            "Epoch 35/200\n",
            " - 0s - loss: 0.5991 - acc: 0.6598 - val_loss: 0.6063 - val_acc: 0.6577\n",
            "Epoch 36/200\n",
            " - 0s - loss: 0.5984 - acc: 0.6627 - val_loss: 0.6086 - val_acc: 0.6429\n",
            "Epoch 37/200\n",
            " - 0s - loss: 0.5982 - acc: 0.6619 - val_loss: 0.6005 - val_acc: 0.6732\n",
            "Epoch 38/200\n",
            " - 0s - loss: 0.5980 - acc: 0.6586 - val_loss: 0.6036 - val_acc: 0.6577\n",
            "Epoch 39/200\n",
            " - 0s - loss: 0.5965 - acc: 0.6638 - val_loss: 0.6233 - val_acc: 0.6518\n",
            "Epoch 40/200\n",
            " - 0s - loss: 0.5957 - acc: 0.6692 - val_loss: 0.5999 - val_acc: 0.6690\n",
            "Epoch 41/200\n",
            " - 0s - loss: 0.5995 - acc: 0.6598 - val_loss: 0.6279 - val_acc: 0.6446\n",
            "Epoch 42/200\n",
            " - 0s - loss: 0.5981 - acc: 0.6617 - val_loss: 0.6417 - val_acc: 0.6086\n",
            "Epoch 43/200\n",
            " - 0s - loss: 0.5945 - acc: 0.6635 - val_loss: 0.6035 - val_acc: 0.6655\n",
            "Epoch 44/200\n",
            " - 0s - loss: 0.5946 - acc: 0.6613 - val_loss: 0.6437 - val_acc: 0.6440\n",
            "Epoch 45/200\n",
            " - 0s - loss: 0.5951 - acc: 0.6668 - val_loss: 0.6091 - val_acc: 0.6524\n",
            "Epoch 46/200\n",
            " - 0s - loss: 0.5933 - acc: 0.6690 - val_loss: 0.5956 - val_acc: 0.6643\n",
            "Epoch 47/200\n",
            " - 0s - loss: 0.5913 - acc: 0.6634 - val_loss: 0.5982 - val_acc: 0.6744\n",
            "Epoch 48/200\n",
            " - 0s - loss: 0.5915 - acc: 0.6673 - val_loss: 0.6164 - val_acc: 0.6384\n",
            "Epoch 49/200\n",
            " - 0s - loss: 0.5912 - acc: 0.6685 - val_loss: 0.6044 - val_acc: 0.6702\n",
            "Epoch 50/200\n",
            " - 0s - loss: 0.5946 - acc: 0.6617 - val_loss: 0.6238 - val_acc: 0.6330\n",
            "Epoch 51/200\n",
            " - 0s - loss: 0.5913 - acc: 0.6657 - val_loss: 0.6206 - val_acc: 0.6533\n",
            "Epoch 52/200\n",
            " - 0s - loss: 0.5940 - acc: 0.6663 - val_loss: 0.6122 - val_acc: 0.6467\n",
            "Epoch 53/200\n",
            " - 0s - loss: 0.5910 - acc: 0.6681 - val_loss: 0.6726 - val_acc: 0.6443\n",
            "Epoch 54/200\n",
            " - 0s - loss: 0.5906 - acc: 0.6661 - val_loss: 0.6096 - val_acc: 0.6631\n",
            "Epoch 55/200\n",
            " - 0s - loss: 0.5912 - acc: 0.6694 - val_loss: 0.6101 - val_acc: 0.6539\n",
            "Epoch 56/200\n",
            " - 0s - loss: 0.5892 - acc: 0.6691 - val_loss: 0.6201 - val_acc: 0.6554\n",
            "Epoch 57/200\n",
            " - 0s - loss: 0.5914 - acc: 0.6655 - val_loss: 0.5999 - val_acc: 0.6658\n",
            "Epoch 58/200\n",
            " - 0s - loss: 0.5897 - acc: 0.6717 - val_loss: 0.6026 - val_acc: 0.6676\n",
            "Epoch 59/200\n",
            " - 0s - loss: 0.5897 - acc: 0.6665 - val_loss: 0.6039 - val_acc: 0.6667\n",
            "Epoch 60/200\n",
            " - 0s - loss: 0.5906 - acc: 0.6665 - val_loss: 0.6453 - val_acc: 0.6009\n",
            "Epoch 61/200\n",
            " - 0s - loss: 0.5899 - acc: 0.6679 - val_loss: 0.6156 - val_acc: 0.6518\n"
          ],
          "name": "stdout"
        }
      ]
    },
    {
      "cell_type": "code",
      "metadata": {
        "id": "XSZmcNKQOfVx",
        "colab_type": "code",
        "outputId": "65b40c34-583b-4622-bb72-6e6e3bd39e2e",
        "colab": {
          "base_uri": "https://localhost:8080/",
          "height": 52
        }
      },
      "source": [
        "score = model.evaluate(X_test,y_test,32)\n",
        "print(score[1])"
      ],
      "execution_count": 65,
      "outputs": [
        {
          "output_type": "stream",
          "text": [
            "2800/2800 [==============================] - 0s 70us/step\n",
            "0.67375\n"
          ],
          "name": "stdout"
        }
      ]
    },
    {
      "cell_type": "code",
      "metadata": {
        "id": "ju6EBlymALW8",
        "colab_type": "code",
        "colab": {}
      },
      "source": [
        "def instance_model2():\n",
        "      model = Sequential()\n",
        "      model.add(Dense(512,input_dim=input_dim,\n",
        "                  activation ='relu',\n",
        "                  kernel_initializer='random_uniform',\n",
        "                  bias_initializer='zeros',\n",
        "#                   kernel_regularizer=l2(1e-3),\n",
        "                  bias_regularizer=l2(1e-3),\n",
        "                     ))\n",
        "#       model.add(Dropout(rate=0.15))\n",
        "#       model.add(BatchNormalization()) \n",
        "#       model.add(GaussianNoise(0.5))\n",
        "      model.add(Dense(512,\n",
        "# #       activation='relu',\n",
        "#                   bias_initializer='zeros',\n",
        "#                   kernel_regularizer=l2(1e-3),\n",
        "#                   bias_regularizer=l2(1e-3),\n",
        "                     ))\n",
        "#       model.add(LeakyReLU(alpha=0.3))\n",
        "      model.add(LeakyReLU(alpha=0.3))\n",
        "\n",
        "      model.add(Dropout(rate=0.15))\n",
        "      model.add(BatchNormalization()) \n",
        "\n",
        "      model.add(Dense(256,\n",
        "# #                       activation='relu',\n",
        "#                   bias_initializer='zeros',\n",
        "#                   kernel_regularizer=l2(1e-3),\n",
        "#                   bias_regularizer=l2(1e-3),\n",
        "                     ))\n",
        "      model.add(LeakyReLU(alpha=0.3))\n",
        "      model.add(Dense(2, activation='softmax',))\n",
        "                 \n",
        "      return model"
      ],
      "execution_count": 0,
      "outputs": []
    },
    {
      "cell_type": "code",
      "metadata": {
        "id": "5nUruqJq_oMr",
        "colab_type": "code",
        "colab": {
          "base_uri": "https://localhost:8080/",
          "height": 2865
        },
        "outputId": "33b35d37-408f-4936-96a2-303bf1bc3965"
      },
      "source": [
        "print(\"Training...\")\n",
        "model2 = instance_model2()\n",
        "model2.compile(loss='binary_crossentropy', optimizer='adam' ,metrics=['accuracy'])\n",
        "\n",
        "history = model2.fit(X_train,y_train, epochs=epochs, batch_size=128, validation_split=0.15, verbose=2, shuffle = True,callbacks=[early_stopping_monitor])"
      ],
      "execution_count": 36,
      "outputs": [
        {
          "output_type": "stream",
          "text": [
            "Training...\n",
            "Train on 9520 samples, validate on 1680 samples\n",
            "Epoch 1/200\n",
            " - 2s - loss: 0.7427 - acc: 0.5749 - val_loss: 0.6541 - val_acc: 0.6012\n",
            "Epoch 2/200\n",
            " - 0s - loss: 0.6968 - acc: 0.5805 - val_loss: 0.6812 - val_acc: 0.6143\n",
            "Epoch 3/200\n",
            " - 0s - loss: 0.6672 - acc: 0.6015 - val_loss: 0.6938 - val_acc: 0.5649\n",
            "Epoch 4/200\n",
            " - 0s - loss: 0.6641 - acc: 0.5974 - val_loss: 0.6531 - val_acc: 0.6196\n",
            "Epoch 5/200\n",
            " - 0s - loss: 0.6464 - acc: 0.6178 - val_loss: 0.6614 - val_acc: 0.6190\n",
            "Epoch 6/200\n",
            " - 0s - loss: 0.6443 - acc: 0.6122 - val_loss: 0.6534 - val_acc: 0.6268\n",
            "Epoch 7/200\n",
            " - 0s - loss: 0.6378 - acc: 0.6212 - val_loss: 0.6574 - val_acc: 0.6196\n",
            "Epoch 8/200\n",
            " - 0s - loss: 0.6343 - acc: 0.6225 - val_loss: 0.6232 - val_acc: 0.6315\n",
            "Epoch 9/200\n",
            " - 0s - loss: 0.6312 - acc: 0.6262 - val_loss: 0.6323 - val_acc: 0.6196\n",
            "Epoch 10/200\n",
            " - 0s - loss: 0.6251 - acc: 0.6307 - val_loss: 0.6343 - val_acc: 0.6095\n",
            "Epoch 11/200\n",
            " - 0s - loss: 0.6210 - acc: 0.6342 - val_loss: 0.8254 - val_acc: 0.6060\n",
            "Epoch 12/200\n",
            " - 0s - loss: 0.6143 - acc: 0.6425 - val_loss: 0.6157 - val_acc: 0.6357\n",
            "Epoch 13/200\n",
            " - 0s - loss: 0.6116 - acc: 0.6432 - val_loss: 0.6178 - val_acc: 0.6321\n",
            "Epoch 14/200\n",
            " - 0s - loss: 0.6067 - acc: 0.6457 - val_loss: 0.6571 - val_acc: 0.6262\n",
            "Epoch 15/200\n",
            " - 0s - loss: 0.6065 - acc: 0.6413 - val_loss: 0.6355 - val_acc: 0.6071\n",
            "Epoch 16/200\n",
            " - 0s - loss: 0.6033 - acc: 0.6453 - val_loss: 0.6320 - val_acc: 0.6339\n",
            "Epoch 17/200\n",
            " - 0s - loss: 0.6022 - acc: 0.6500 - val_loss: 0.6051 - val_acc: 0.6417\n",
            "Epoch 18/200\n",
            " - 0s - loss: 0.6010 - acc: 0.6526 - val_loss: 0.6432 - val_acc: 0.6250\n",
            "Epoch 19/200\n",
            " - 0s - loss: 0.5992 - acc: 0.6612 - val_loss: 0.5962 - val_acc: 0.6661\n",
            "Epoch 20/200\n",
            " - 0s - loss: 0.5958 - acc: 0.6601 - val_loss: 0.6393 - val_acc: 0.6208\n",
            "Epoch 21/200\n",
            " - 0s - loss: 0.5985 - acc: 0.6609 - val_loss: 0.6043 - val_acc: 0.6500\n",
            "Epoch 22/200\n",
            " - 0s - loss: 0.5941 - acc: 0.6621 - val_loss: 0.6046 - val_acc: 0.6631\n",
            "Epoch 23/200\n",
            " - 0s - loss: 0.5945 - acc: 0.6593 - val_loss: 0.6126 - val_acc: 0.6494\n",
            "Epoch 24/200\n",
            " - 0s - loss: 0.5962 - acc: 0.6619 - val_loss: 0.6156 - val_acc: 0.6411\n",
            "Epoch 25/200\n",
            " - 0s - loss: 0.5926 - acc: 0.6629 - val_loss: 0.6356 - val_acc: 0.6399\n",
            "Epoch 26/200\n",
            " - 0s - loss: 0.5946 - acc: 0.6577 - val_loss: 0.5939 - val_acc: 0.6613\n",
            "Epoch 27/200\n",
            " - 0s - loss: 0.5919 - acc: 0.6630 - val_loss: 0.6110 - val_acc: 0.6440\n",
            "Epoch 28/200\n",
            " - 0s - loss: 0.5914 - acc: 0.6655 - val_loss: 0.6032 - val_acc: 0.6548\n",
            "Epoch 29/200\n",
            " - 0s - loss: 0.5925 - acc: 0.6650 - val_loss: 0.6002 - val_acc: 0.6571\n",
            "Epoch 30/200\n",
            " - 0s - loss: 0.5907 - acc: 0.6596 - val_loss: 0.6376 - val_acc: 0.6393\n",
            "Epoch 31/200\n",
            " - 0s - loss: 0.5882 - acc: 0.6670 - val_loss: 0.6285 - val_acc: 0.6405\n",
            "Epoch 32/200\n",
            " - 0s - loss: 0.5889 - acc: 0.6637 - val_loss: 0.6075 - val_acc: 0.6399\n",
            "Epoch 33/200\n",
            " - 0s - loss: 0.5934 - acc: 0.6613 - val_loss: 0.6295 - val_acc: 0.6357\n",
            "Epoch 34/200\n",
            " - 0s - loss: 0.5903 - acc: 0.6582 - val_loss: 0.5949 - val_acc: 0.6643\n",
            "Epoch 35/200\n",
            " - 0s - loss: 0.5865 - acc: 0.6685 - val_loss: 0.6180 - val_acc: 0.6375\n",
            "Epoch 36/200\n",
            " - 0s - loss: 0.5892 - acc: 0.6662 - val_loss: 0.6134 - val_acc: 0.6524\n",
            "Epoch 37/200\n",
            " - 0s - loss: 0.5873 - acc: 0.6654 - val_loss: 0.5999 - val_acc: 0.6536\n",
            "Epoch 38/200\n",
            " - 0s - loss: 0.5880 - acc: 0.6674 - val_loss: 0.5934 - val_acc: 0.6619\n",
            "Epoch 39/200\n",
            " - 0s - loss: 0.5917 - acc: 0.6624 - val_loss: 0.6553 - val_acc: 0.6119\n",
            "Epoch 40/200\n",
            " - 0s - loss: 0.5884 - acc: 0.6707 - val_loss: 0.6086 - val_acc: 0.6583\n",
            "Epoch 41/200\n",
            " - 0s - loss: 0.5869 - acc: 0.6684 - val_loss: 0.6371 - val_acc: 0.6399\n",
            "Epoch 42/200\n",
            " - 0s - loss: 0.5856 - acc: 0.6708 - val_loss: 0.6342 - val_acc: 0.6327\n",
            "Epoch 43/200\n",
            " - 0s - loss: 0.5828 - acc: 0.6678 - val_loss: 0.6121 - val_acc: 0.6476\n",
            "Epoch 44/200\n",
            " - 0s - loss: 0.5849 - acc: 0.6711 - val_loss: 0.6077 - val_acc: 0.6435\n",
            "Epoch 45/200\n",
            " - 0s - loss: 0.5842 - acc: 0.6676 - val_loss: 0.6111 - val_acc: 0.6315\n",
            "Epoch 46/200\n",
            " - 0s - loss: 0.5853 - acc: 0.6671 - val_loss: 0.6064 - val_acc: 0.6423\n",
            "Epoch 47/200\n",
            " - 0s - loss: 0.5844 - acc: 0.6679 - val_loss: 0.6005 - val_acc: 0.6506\n",
            "Epoch 48/200\n",
            " - 0s - loss: 0.5838 - acc: 0.6701 - val_loss: 0.6007 - val_acc: 0.6613\n",
            "Epoch 49/200\n",
            " - 0s - loss: 0.5833 - acc: 0.6696 - val_loss: 0.6301 - val_acc: 0.6524\n",
            "Epoch 50/200\n",
            " - 0s - loss: 0.5868 - acc: 0.6697 - val_loss: 0.6182 - val_acc: 0.6518\n",
            "Epoch 51/200\n",
            " - 0s - loss: 0.5829 - acc: 0.6728 - val_loss: 0.5928 - val_acc: 0.6655\n",
            "Epoch 52/200\n",
            " - 0s - loss: 0.5833 - acc: 0.6671 - val_loss: 0.6149 - val_acc: 0.6310\n",
            "Epoch 53/200\n",
            " - 0s - loss: 0.5825 - acc: 0.6721 - val_loss: 0.6055 - val_acc: 0.6518\n",
            "Epoch 54/200\n",
            " - 0s - loss: 0.5800 - acc: 0.6775 - val_loss: 0.6193 - val_acc: 0.6405\n",
            "Epoch 55/200\n",
            " - 0s - loss: 0.5788 - acc: 0.6750 - val_loss: 0.6256 - val_acc: 0.6262\n",
            "Epoch 56/200\n",
            " - 0s - loss: 0.5826 - acc: 0.6715 - val_loss: 0.6012 - val_acc: 0.6524\n",
            "Epoch 57/200\n",
            " - 0s - loss: 0.5784 - acc: 0.6761 - val_loss: 0.5985 - val_acc: 0.6583\n",
            "Epoch 58/200\n",
            " - 0s - loss: 0.5788 - acc: 0.6742 - val_loss: 0.6079 - val_acc: 0.6554\n",
            "Epoch 59/200\n",
            " - 0s - loss: 0.5799 - acc: 0.6725 - val_loss: 0.6193 - val_acc: 0.6470\n",
            "Epoch 60/200\n",
            " - 0s - loss: 0.5762 - acc: 0.6842 - val_loss: 0.6018 - val_acc: 0.6530\n",
            "Epoch 61/200\n",
            " - 0s - loss: 0.5801 - acc: 0.6703 - val_loss: 0.6140 - val_acc: 0.6476\n",
            "Epoch 62/200\n",
            " - 0s - loss: 0.5829 - acc: 0.6711 - val_loss: 0.6144 - val_acc: 0.6429\n",
            "Epoch 63/200\n",
            " - 0s - loss: 0.5799 - acc: 0.6715 - val_loss: 0.5956 - val_acc: 0.6548\n",
            "Epoch 64/200\n",
            " - 0s - loss: 0.5752 - acc: 0.6789 - val_loss: 0.5956 - val_acc: 0.6625\n",
            "Epoch 65/200\n",
            " - 0s - loss: 0.5785 - acc: 0.6767 - val_loss: 0.6042 - val_acc: 0.6458\n",
            "Epoch 66/200\n",
            " - 0s - loss: 0.5763 - acc: 0.6816 - val_loss: 0.6076 - val_acc: 0.6542\n",
            "Epoch 67/200\n",
            " - 0s - loss: 0.5779 - acc: 0.6752 - val_loss: 0.5969 - val_acc: 0.6554\n",
            "Epoch 68/200\n",
            " - 0s - loss: 0.5766 - acc: 0.6751 - val_loss: 0.6058 - val_acc: 0.6524\n",
            "Epoch 69/200\n",
            " - 0s - loss: 0.5757 - acc: 0.6812 - val_loss: 0.6051 - val_acc: 0.6625\n",
            "Epoch 70/200\n",
            " - 0s - loss: 0.5771 - acc: 0.6738 - val_loss: 0.6724 - val_acc: 0.6214\n",
            "Epoch 71/200\n",
            " - 0s - loss: 0.5778 - acc: 0.6737 - val_loss: 0.6005 - val_acc: 0.6637\n",
            "Epoch 72/200\n",
            " - 0s - loss: 0.5753 - acc: 0.6756 - val_loss: 0.5943 - val_acc: 0.6607\n",
            "Epoch 73/200\n",
            " - 0s - loss: 0.5767 - acc: 0.6787 - val_loss: 0.6203 - val_acc: 0.6429\n",
            "Epoch 74/200\n",
            " - 0s - loss: 0.5754 - acc: 0.6774 - val_loss: 0.6033 - val_acc: 0.6542\n",
            "Epoch 75/200\n",
            " - 0s - loss: 0.5751 - acc: 0.6758 - val_loss: 0.6019 - val_acc: 0.6524\n",
            "Epoch 76/200\n",
            " - 0s - loss: 0.5753 - acc: 0.6768 - val_loss: 0.5931 - val_acc: 0.6595\n",
            "Epoch 77/200\n",
            " - 0s - loss: 0.5761 - acc: 0.6780 - val_loss: 0.5982 - val_acc: 0.6601\n",
            "Epoch 78/200\n",
            " - 0s - loss: 0.5745 - acc: 0.6759 - val_loss: 0.5945 - val_acc: 0.6637\n",
            "Epoch 79/200\n",
            " - 0s - loss: 0.5755 - acc: 0.6795 - val_loss: 0.5944 - val_acc: 0.6583\n",
            "Epoch 80/200\n",
            " - 0s - loss: 0.5749 - acc: 0.6756 - val_loss: 0.6007 - val_acc: 0.6536\n",
            "Epoch 81/200\n",
            " - 0s - loss: 0.5732 - acc: 0.6793 - val_loss: 0.5936 - val_acc: 0.6607\n"
          ],
          "name": "stdout"
        }
      ]
    },
    {
      "cell_type": "code",
      "metadata": {
        "id": "z6FYueRP_rZW",
        "colab_type": "code",
        "colab": {
          "base_uri": "https://localhost:8080/",
          "height": 52
        },
        "outputId": "9cb0357c-46c8-4083-ae06-ce1a660ef287"
      },
      "source": [
        "score = model2.evaluate(X_test,y_test,32)\n",
        "print(score[1])"
      ],
      "execution_count": 37,
      "outputs": [
        {
          "output_type": "stream",
          "text": [
            "2800/2800 [==============================] - 0s 59us/step\n",
            "0.6607142857142857\n"
          ],
          "name": "stdout"
        }
      ]
    },
    {
      "cell_type": "code",
      "metadata": {
        "id": "bNfBSictAXZc",
        "colab_type": "code",
        "colab": {}
      },
      "source": [
        ""
      ],
      "execution_count": 0,
      "outputs": []
    }
  ]
}
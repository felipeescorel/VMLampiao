{
  "nbformat": 4,
  "nbformat_minor": 0,
  "metadata": {
    "colab": {
      "name": "TestGaussianNoiseModel.ipynb",
      "version": "0.3.2",
      "provenance": [],
      "collapsed_sections": [],
      "include_colab_link": true
    },
    "kernelspec": {
      "name": "python3",
      "display_name": "Python 3"
    }
  },
  "cells": [
    {
      "cell_type": "markdown",
      "metadata": {
        "id": "view-in-github",
        "colab_type": "text"
      },
      "source": [
        "<a href=\"https://colab.research.google.com/github/felipeescorel/VMLampiao/blob/master/TestGaussianNoiseModel.ipynb\" target=\"_parent\"><img src=\"https://colab.research.google.com/assets/colab-badge.svg\" alt=\"Open In Colab\"/></a>"
      ]
    },
    {
      "cell_type": "code",
      "metadata": {
        "id": "wyYhjJ9YMsCq",
        "colab_type": "code",
        "colab": {}
      },
      "source": [
        "import pandas as pd\n",
        "from sklearn.model_selection import train_test_split\n",
        "import matplotlib.pyplot as plt\n",
        "from keras import optimizers\n",
        "\n",
        "from keras.models import Sequential\n",
        "from keras.regularizers import l2\n",
        "from keras.layers.core import Dense, Dropout,Activation\n",
        "from keras.layers import GaussianNoise\n",
        "\n"
      ],
      "execution_count": 0,
      "outputs": []
    },
    {
      "cell_type": "code",
      "metadata": {
        "id": "1PpkyracMums",
        "colab_type": "code",
        "colab": {
          "base_uri": "https://localhost:8080/",
          "height": 34
        },
        "outputId": "be304679-b6b7-4ae5-b698-6ab9b5200c1b"
      },
      "source": [
        "!git clone https://github.com/felipeescorel/redes_neurais.git"
      ],
      "execution_count": 6,
      "outputs": [
        {
          "output_type": "stream",
          "text": [
            "fatal: destination path 'redes_neurais' already exists and is not an empty directory.\n"
          ],
          "name": "stdout"
        }
      ]
    },
    {
      "cell_type": "code",
      "metadata": {
        "id": "7ZSKCcIWMwel",
        "colab_type": "code",
        "colab": {}
      },
      "source": [
        "data =  pd.read_csv('redes_neurais/ClientesVM/datasetV6.csv')"
      ],
      "execution_count": 0,
      "outputs": []
    },
    {
      "cell_type": "code",
      "metadata": {
        "id": "MhJqvwQGMy1l",
        "colab_type": "code",
        "colab": {}
      },
      "source": [
        "def instance_model():\n",
        "      model = Sequential()\n",
        "      model.add(Dense(512,input_dim=input_dim,\n",
        "                  activation ='relu',\n",
        "                  kernel_initializer='random_uniform',\n",
        "                  bias_initializer='zeros',\n",
        "                  kernel_regularizer=l2(1e-4),\n",
        "                  bias_regularizer=l2(1e-4),))\n",
        "      model.add(Dropout(rate=0.3))\n",
        "      model.add(Dense(512))\n",
        "      model.add(Activation('relu'))\n",
        "      model.add(Dropout(rate=0.3)) \n",
        "      model.add(GaussianNoise(0.45))\n",
        "      model.add(Dense(256))\n",
        "      model.add(Activation('relu'))\n",
        "      model.add(Dropout(rate=0.15)) \n",
        "      model.add(Dense(256))\n",
        "      model.add(Activation('relu'))\n",
        "      model.add(Dropout(rate=0.15))\n",
        "      model.add(GaussianNoise(0.45))\n",
        "      model.add(Dense(1024))\n",
        "      model.add(Activation('relu'))\n",
        "      model.add(Dropout(rate=0.3)) \n",
        "      model.add(GaussianNoise(0.45))\n",
        "      model.add(Dense(2048))\n",
        "      \n",
        "      model.add(Activation('relu'))\n",
        "      model.add(Dropout(rate=0.15))\n",
        "      model.add(Dense(1, activation='sigmoid',))\n",
        "                 \n",
        "      return model"
      ],
      "execution_count": 0,
      "outputs": []
    },
    {
      "cell_type": "code",
      "metadata": {
        "id": "SOKxBobhM0vc",
        "colab_type": "code",
        "colab": {}
      },
      "source": [
        "data['rendaMedia'] = data['rendaMedia'].map(lambda x: (x - data['rendaMedia'].min())/(data['rendaMedia'].max()-data['rendaMedia'].min()) )\n",
        "data['cidade_id'] = data['cidade_id'].map(lambda x: (x - data['cidade_id'].min())/(data['cidade_id'].max()-data['cidade_id'].min()) ) \n",
        "data['Idade'] = data['Idade'].map(lambda x: (x - data['Idade'].min())/(data['Idade'].max()-data['Idade'].min()) )"
      ],
      "execution_count": 0,
      "outputs": []
    },
    {
      "cell_type": "code",
      "metadata": {
        "id": "1M23K6GeM7IM",
        "colab_type": "code",
        "colab": {}
      },
      "source": [
        "train, test = train_test_split(data, test_size=0.2)\n",
        "labels = train.loc[:,'id']\n",
        "X_train = train.iloc[:,1:-1]\n",
        "y_train = train.loc[:,'Aprovado']\n",
        "X_test = test.iloc[:,1:-1]\n",
        "y_test = test.loc[:,'Aprovado']"
      ],
      "execution_count": 0,
      "outputs": []
    },
    {
      "cell_type": "code",
      "metadata": {
        "id": "fHs0iUmBM9V_",
        "colab_type": "code",
        "colab": {}
      },
      "source": [
        "input_dim = X_train.shape[1]\n",
        "epochs = 400\n",
        "model = instance_model()\n",
        "# adam = optimizers.Adam(lr=0.0001)\n",
        "model.compile(loss='binary_crossentropy', optimizer='adam' ,metrics=['accuracy'])"
      ],
      "execution_count": 0,
      "outputs": []
    },
    {
      "cell_type": "code",
      "metadata": {
        "id": "EiQKTAE2OMoA",
        "colab_type": "code",
        "colab": {
          "base_uri": "https://localhost:8080/",
          "height": 1632
        },
        "outputId": "2cc94b97-bfdb-49b2-b7e7-9ccdd835d49b"
      },
      "source": [
        "print(\"Training...\")\n",
        "history = model.fit(X_train,y_train, epochs=epochs, batch_size=128, validation_split=0.15, verbose=2, shuffle = True)"
      ],
      "execution_count": 33,
      "outputs": [
        {
          "output_type": "stream",
          "text": [
            "Training...\n",
            "Train on 9520 samples, validate on 1680 samples\n",
            "Epoch 1/400\n",
            " - 11s - loss: 0.7428 - acc: 0.5290 - val_loss: 0.6953 - val_acc: 0.4458\n",
            "Epoch 2/400\n",
            " - 8s - loss: 0.6823 - acc: 0.5722 - val_loss: 0.6966 - val_acc: 0.4518\n",
            "Epoch 3/400\n",
            " - 8s - loss: 0.6752 - acc: 0.5878 - val_loss: 0.6761 - val_acc: 0.5732\n",
            "Epoch 4/400\n",
            " - 8s - loss: 0.6657 - acc: 0.5855 - val_loss: 0.6706 - val_acc: 0.5440\n",
            "Epoch 5/400\n",
            " - 8s - loss: 0.6594 - acc: 0.5899 - val_loss: 0.6676 - val_acc: 0.5452\n",
            "Epoch 6/400\n",
            " - 8s - loss: 0.6562 - acc: 0.5981 - val_loss: 0.6586 - val_acc: 0.5952\n",
            "Epoch 7/400\n",
            " - 8s - loss: 0.6565 - acc: 0.6007 - val_loss: 0.6531 - val_acc: 0.5732\n",
            "Epoch 8/400\n",
            " - 8s - loss: 0.6541 - acc: 0.6076 - val_loss: 0.6633 - val_acc: 0.5696\n",
            "Epoch 9/400\n",
            " - 8s - loss: 0.6507 - acc: 0.6048 - val_loss: 0.6540 - val_acc: 0.5863\n",
            "Epoch 10/400\n",
            " - 8s - loss: 0.6479 - acc: 0.6110 - val_loss: 0.6459 - val_acc: 0.5893\n",
            "Epoch 11/400\n",
            " - 8s - loss: 0.6430 - acc: 0.6187 - val_loss: 0.6445 - val_acc: 0.6095\n",
            "Epoch 12/400\n",
            " - 8s - loss: 0.6425 - acc: 0.6192 - val_loss: 0.6389 - val_acc: 0.6202\n",
            "Epoch 13/400\n",
            " - 8s - loss: 0.6450 - acc: 0.6165 - val_loss: 0.6456 - val_acc: 0.5982\n",
            "Epoch 14/400\n",
            " - 8s - loss: 0.6456 - acc: 0.6152 - val_loss: 0.6423 - val_acc: 0.6048\n",
            "Epoch 15/400\n",
            " - 8s - loss: 0.6413 - acc: 0.6202 - val_loss: 0.6470 - val_acc: 0.6143\n",
            "Epoch 16/400\n",
            " - 8s - loss: 0.6434 - acc: 0.6208 - val_loss: 0.6542 - val_acc: 0.6113\n",
            "Epoch 17/400\n",
            " - 8s - loss: 0.6417 - acc: 0.6201 - val_loss: 0.6376 - val_acc: 0.6155\n",
            "Epoch 18/400\n",
            " - 8s - loss: 0.6378 - acc: 0.6180 - val_loss: 0.6397 - val_acc: 0.6173\n",
            "Epoch 19/400\n",
            " - 8s - loss: 0.6358 - acc: 0.6204 - val_loss: 0.6378 - val_acc: 0.6065\n",
            "Epoch 20/400\n",
            " - 8s - loss: 0.6339 - acc: 0.6237 - val_loss: 0.6394 - val_acc: 0.6119\n",
            "Epoch 21/400\n",
            " - 8s - loss: 0.6348 - acc: 0.6258 - val_loss: 0.6373 - val_acc: 0.6060\n",
            "Epoch 22/400\n",
            " - 8s - loss: 0.6329 - acc: 0.6221 - val_loss: 0.6330 - val_acc: 0.6202\n",
            "Epoch 23/400\n",
            " - 8s - loss: 0.6329 - acc: 0.6229 - val_loss: 0.6394 - val_acc: 0.6060\n",
            "Epoch 24/400\n",
            " - 8s - loss: 0.6369 - acc: 0.6297 - val_loss: 0.6391 - val_acc: 0.6125\n",
            "Epoch 25/400\n",
            " - 8s - loss: 0.6345 - acc: 0.6155 - val_loss: 0.6324 - val_acc: 0.6220\n",
            "Epoch 26/400\n",
            " - 8s - loss: 0.6352 - acc: 0.6252 - val_loss: 0.6320 - val_acc: 0.6095\n",
            "Epoch 27/400\n",
            " - 8s - loss: 0.6311 - acc: 0.6244 - val_loss: 0.6333 - val_acc: 0.6137\n",
            "Epoch 28/400\n",
            " - 8s - loss: 0.6318 - acc: 0.6257 - val_loss: 0.6353 - val_acc: 0.6250\n",
            "Epoch 29/400\n",
            " - 8s - loss: 0.6350 - acc: 0.6266 - val_loss: 0.6416 - val_acc: 0.6208\n",
            "Epoch 30/400\n",
            " - 8s - loss: 0.6356 - acc: 0.6268 - val_loss: 0.6347 - val_acc: 0.6101\n",
            "Epoch 31/400\n",
            " - 8s - loss: 0.6337 - acc: 0.6277 - val_loss: 0.6340 - val_acc: 0.6131\n",
            "Epoch 32/400\n",
            " - 8s - loss: 0.6365 - acc: 0.6253 - val_loss: 0.6400 - val_acc: 0.6256\n",
            "Epoch 33/400\n",
            " - 8s - loss: 0.6354 - acc: 0.6221 - val_loss: 0.6276 - val_acc: 0.6208\n",
            "Epoch 34/400\n",
            " - 8s - loss: 0.6283 - acc: 0.6286 - val_loss: 0.6321 - val_acc: 0.6149\n",
            "Epoch 35/400\n",
            " - 8s - loss: 0.6313 - acc: 0.6317 - val_loss: 0.6292 - val_acc: 0.6167\n",
            "Epoch 36/400\n",
            " - 8s - loss: 0.6330 - acc: 0.6276 - val_loss: 0.6427 - val_acc: 0.6155\n",
            "Epoch 37/400\n",
            " - 8s - loss: 0.6332 - acc: 0.6238 - val_loss: 0.6321 - val_acc: 0.6214\n",
            "Epoch 38/400\n"
          ],
          "name": "stdout"
        },
        {
          "output_type": "error",
          "ename": "KeyboardInterrupt",
          "evalue": "ignored",
          "traceback": [
            "\u001b[0;31m---------------------------------------------------------------------------\u001b[0m",
            "\u001b[0;31mKeyboardInterrupt\u001b[0m                         Traceback (most recent call last)",
            "\u001b[0;32m<ipython-input-33-51ef1a9126d5>\u001b[0m in \u001b[0;36m<module>\u001b[0;34m()\u001b[0m\n\u001b[1;32m      1\u001b[0m \u001b[0mprint\u001b[0m\u001b[0;34m(\u001b[0m\u001b[0;34m\"Training...\"\u001b[0m\u001b[0;34m)\u001b[0m\u001b[0;34m\u001b[0m\u001b[0;34m\u001b[0m\u001b[0m\n\u001b[0;32m----> 2\u001b[0;31m \u001b[0mhistory\u001b[0m \u001b[0;34m=\u001b[0m \u001b[0mmodel\u001b[0m\u001b[0;34m.\u001b[0m\u001b[0mfit\u001b[0m\u001b[0;34m(\u001b[0m\u001b[0mX_train\u001b[0m\u001b[0;34m,\u001b[0m\u001b[0my_train\u001b[0m\u001b[0;34m,\u001b[0m \u001b[0mepochs\u001b[0m\u001b[0;34m=\u001b[0m\u001b[0mepochs\u001b[0m\u001b[0;34m,\u001b[0m \u001b[0mbatch_size\u001b[0m\u001b[0;34m=\u001b[0m\u001b[0;36m128\u001b[0m\u001b[0;34m,\u001b[0m \u001b[0mvalidation_split\u001b[0m\u001b[0;34m=\u001b[0m\u001b[0;36m0.15\u001b[0m\u001b[0;34m,\u001b[0m \u001b[0mverbose\u001b[0m\u001b[0;34m=\u001b[0m\u001b[0;36m2\u001b[0m\u001b[0;34m,\u001b[0m \u001b[0mshuffle\u001b[0m \u001b[0;34m=\u001b[0m \u001b[0;32mTrue\u001b[0m\u001b[0;34m)\u001b[0m\u001b[0;34m\u001b[0m\u001b[0;34m\u001b[0m\u001b[0m\n\u001b[0m",
            "\u001b[0;32m/usr/local/lib/python3.6/dist-packages/keras/engine/training.py\u001b[0m in \u001b[0;36mfit\u001b[0;34m(self, x, y, batch_size, epochs, verbose, callbacks, validation_split, validation_data, shuffle, class_weight, sample_weight, initial_epoch, steps_per_epoch, validation_steps, **kwargs)\u001b[0m\n\u001b[1;32m   1037\u001b[0m                                         \u001b[0minitial_epoch\u001b[0m\u001b[0;34m=\u001b[0m\u001b[0minitial_epoch\u001b[0m\u001b[0;34m,\u001b[0m\u001b[0;34m\u001b[0m\u001b[0;34m\u001b[0m\u001b[0m\n\u001b[1;32m   1038\u001b[0m                                         \u001b[0msteps_per_epoch\u001b[0m\u001b[0;34m=\u001b[0m\u001b[0msteps_per_epoch\u001b[0m\u001b[0;34m,\u001b[0m\u001b[0;34m\u001b[0m\u001b[0;34m\u001b[0m\u001b[0m\n\u001b[0;32m-> 1039\u001b[0;31m                                         validation_steps=validation_steps)\n\u001b[0m\u001b[1;32m   1040\u001b[0m \u001b[0;34m\u001b[0m\u001b[0m\n\u001b[1;32m   1041\u001b[0m     def evaluate(self, x=None, y=None,\n",
            "\u001b[0;32m/usr/local/lib/python3.6/dist-packages/keras/engine/training_arrays.py\u001b[0m in \u001b[0;36mfit_loop\u001b[0;34m(model, f, ins, out_labels, batch_size, epochs, verbose, callbacks, val_f, val_ins, shuffle, callback_metrics, initial_epoch, steps_per_epoch, validation_steps)\u001b[0m\n\u001b[1;32m    197\u001b[0m                     \u001b[0mins_batch\u001b[0m\u001b[0;34m[\u001b[0m\u001b[0mi\u001b[0m\u001b[0;34m]\u001b[0m \u001b[0;34m=\u001b[0m \u001b[0mins_batch\u001b[0m\u001b[0;34m[\u001b[0m\u001b[0mi\u001b[0m\u001b[0;34m]\u001b[0m\u001b[0;34m.\u001b[0m\u001b[0mtoarray\u001b[0m\u001b[0;34m(\u001b[0m\u001b[0;34m)\u001b[0m\u001b[0;34m\u001b[0m\u001b[0;34m\u001b[0m\u001b[0m\n\u001b[1;32m    198\u001b[0m \u001b[0;34m\u001b[0m\u001b[0m\n\u001b[0;32m--> 199\u001b[0;31m                 \u001b[0mouts\u001b[0m \u001b[0;34m=\u001b[0m \u001b[0mf\u001b[0m\u001b[0;34m(\u001b[0m\u001b[0mins_batch\u001b[0m\u001b[0;34m)\u001b[0m\u001b[0;34m\u001b[0m\u001b[0;34m\u001b[0m\u001b[0m\n\u001b[0m\u001b[1;32m    200\u001b[0m                 \u001b[0mouts\u001b[0m \u001b[0;34m=\u001b[0m \u001b[0mto_list\u001b[0m\u001b[0;34m(\u001b[0m\u001b[0mouts\u001b[0m\u001b[0;34m)\u001b[0m\u001b[0;34m\u001b[0m\u001b[0;34m\u001b[0m\u001b[0m\n\u001b[1;32m    201\u001b[0m                 \u001b[0;32mfor\u001b[0m \u001b[0ml\u001b[0m\u001b[0;34m,\u001b[0m \u001b[0mo\u001b[0m \u001b[0;32min\u001b[0m \u001b[0mzip\u001b[0m\u001b[0;34m(\u001b[0m\u001b[0mout_labels\u001b[0m\u001b[0;34m,\u001b[0m \u001b[0mouts\u001b[0m\u001b[0;34m)\u001b[0m\u001b[0;34m:\u001b[0m\u001b[0;34m\u001b[0m\u001b[0;34m\u001b[0m\u001b[0m\n",
            "\u001b[0;32m/usr/local/lib/python3.6/dist-packages/keras/backend/tensorflow_backend.py\u001b[0m in \u001b[0;36m__call__\u001b[0;34m(self, inputs)\u001b[0m\n\u001b[1;32m   2713\u001b[0m                 \u001b[0;32mreturn\u001b[0m \u001b[0mself\u001b[0m\u001b[0;34m.\u001b[0m\u001b[0m_legacy_call\u001b[0m\u001b[0;34m(\u001b[0m\u001b[0minputs\u001b[0m\u001b[0;34m)\u001b[0m\u001b[0;34m\u001b[0m\u001b[0;34m\u001b[0m\u001b[0m\n\u001b[1;32m   2714\u001b[0m \u001b[0;34m\u001b[0m\u001b[0m\n\u001b[0;32m-> 2715\u001b[0;31m             \u001b[0;32mreturn\u001b[0m \u001b[0mself\u001b[0m\u001b[0;34m.\u001b[0m\u001b[0m_call\u001b[0m\u001b[0;34m(\u001b[0m\u001b[0minputs\u001b[0m\u001b[0;34m)\u001b[0m\u001b[0;34m\u001b[0m\u001b[0;34m\u001b[0m\u001b[0m\n\u001b[0m\u001b[1;32m   2716\u001b[0m         \u001b[0;32melse\u001b[0m\u001b[0;34m:\u001b[0m\u001b[0;34m\u001b[0m\u001b[0;34m\u001b[0m\u001b[0m\n\u001b[1;32m   2717\u001b[0m             \u001b[0;32mif\u001b[0m \u001b[0mpy_any\u001b[0m\u001b[0;34m(\u001b[0m\u001b[0mis_tensor\u001b[0m\u001b[0;34m(\u001b[0m\u001b[0mx\u001b[0m\u001b[0;34m)\u001b[0m \u001b[0;32mfor\u001b[0m \u001b[0mx\u001b[0m \u001b[0;32min\u001b[0m \u001b[0minputs\u001b[0m\u001b[0;34m)\u001b[0m\u001b[0;34m:\u001b[0m\u001b[0;34m\u001b[0m\u001b[0;34m\u001b[0m\u001b[0m\n",
            "\u001b[0;32m/usr/local/lib/python3.6/dist-packages/keras/backend/tensorflow_backend.py\u001b[0m in \u001b[0;36m_call\u001b[0;34m(self, inputs)\u001b[0m\n\u001b[1;32m   2673\u001b[0m             \u001b[0mfetched\u001b[0m \u001b[0;34m=\u001b[0m \u001b[0mself\u001b[0m\u001b[0;34m.\u001b[0m\u001b[0m_callable_fn\u001b[0m\u001b[0;34m(\u001b[0m\u001b[0;34m*\u001b[0m\u001b[0marray_vals\u001b[0m\u001b[0;34m,\u001b[0m \u001b[0mrun_metadata\u001b[0m\u001b[0;34m=\u001b[0m\u001b[0mself\u001b[0m\u001b[0;34m.\u001b[0m\u001b[0mrun_metadata\u001b[0m\u001b[0;34m)\u001b[0m\u001b[0;34m\u001b[0m\u001b[0;34m\u001b[0m\u001b[0m\n\u001b[1;32m   2674\u001b[0m         \u001b[0;32melse\u001b[0m\u001b[0;34m:\u001b[0m\u001b[0;34m\u001b[0m\u001b[0;34m\u001b[0m\u001b[0m\n\u001b[0;32m-> 2675\u001b[0;31m             \u001b[0mfetched\u001b[0m \u001b[0;34m=\u001b[0m \u001b[0mself\u001b[0m\u001b[0;34m.\u001b[0m\u001b[0m_callable_fn\u001b[0m\u001b[0;34m(\u001b[0m\u001b[0;34m*\u001b[0m\u001b[0marray_vals\u001b[0m\u001b[0;34m)\u001b[0m\u001b[0;34m\u001b[0m\u001b[0;34m\u001b[0m\u001b[0m\n\u001b[0m\u001b[1;32m   2676\u001b[0m         \u001b[0;32mreturn\u001b[0m \u001b[0mfetched\u001b[0m\u001b[0;34m[\u001b[0m\u001b[0;34m:\u001b[0m\u001b[0mlen\u001b[0m\u001b[0;34m(\u001b[0m\u001b[0mself\u001b[0m\u001b[0;34m.\u001b[0m\u001b[0moutputs\u001b[0m\u001b[0;34m)\u001b[0m\u001b[0;34m]\u001b[0m\u001b[0;34m\u001b[0m\u001b[0;34m\u001b[0m\u001b[0m\n\u001b[1;32m   2677\u001b[0m \u001b[0;34m\u001b[0m\u001b[0m\n",
            "\u001b[0;32m/usr/local/lib/python3.6/dist-packages/tensorflow/python/client/session.py\u001b[0m in \u001b[0;36m__call__\u001b[0;34m(self, *args, **kwargs)\u001b[0m\n\u001b[1;32m   1456\u001b[0m         ret = tf_session.TF_SessionRunCallable(self._session._session,\n\u001b[1;32m   1457\u001b[0m                                                \u001b[0mself\u001b[0m\u001b[0;34m.\u001b[0m\u001b[0m_handle\u001b[0m\u001b[0;34m,\u001b[0m \u001b[0margs\u001b[0m\u001b[0;34m,\u001b[0m\u001b[0;34m\u001b[0m\u001b[0;34m\u001b[0m\u001b[0m\n\u001b[0;32m-> 1458\u001b[0;31m                                                run_metadata_ptr)\n\u001b[0m\u001b[1;32m   1459\u001b[0m         \u001b[0;32mif\u001b[0m \u001b[0mrun_metadata\u001b[0m\u001b[0;34m:\u001b[0m\u001b[0;34m\u001b[0m\u001b[0;34m\u001b[0m\u001b[0m\n\u001b[1;32m   1460\u001b[0m           \u001b[0mproto_data\u001b[0m \u001b[0;34m=\u001b[0m \u001b[0mtf_session\u001b[0m\u001b[0;34m.\u001b[0m\u001b[0mTF_GetBuffer\u001b[0m\u001b[0;34m(\u001b[0m\u001b[0mrun_metadata_ptr\u001b[0m\u001b[0;34m)\u001b[0m\u001b[0;34m\u001b[0m\u001b[0;34m\u001b[0m\u001b[0m\n",
            "\u001b[0;31mKeyboardInterrupt\u001b[0m: "
          ]
        }
      ]
    },
    {
      "cell_type": "code",
      "metadata": {
        "id": "XSZmcNKQOfVx",
        "colab_type": "code",
        "colab": {
          "base_uri": "https://localhost:8080/",
          "height": 51
        },
        "outputId": "1c23fa6d-54c6-48fd-ded2-f0a70e3c7c97"
      },
      "source": [
        "score = model.evaluate(X_test,y_test,64)\n",
        "print(score[1])"
      ],
      "execution_count": 13,
      "outputs": [
        {
          "output_type": "stream",
          "text": [
            "2800/2800 [==============================] - 0s 34us/step\n",
            "0.624999999659402\n"
          ],
          "name": "stdout"
        }
      ]
    }
  ]
}